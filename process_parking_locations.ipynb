{
 "cells": [
  {
   "cell_type": "code",
   "execution_count": 2,
   "metadata": {},
   "outputs": [],
   "source": [
    "import pandas as pd"
   ]
  },
  {
   "cell_type": "code",
   "execution_count": 16,
   "metadata": {},
   "outputs": [],
   "source": [
    "df = pd.read_csv('Parking_Lots.csv').dropna()"
   ]
  },
  {
   "cell_type": "code",
   "execution_count": 17,
   "metadata": {},
   "outputs": [
    {
     "data": {
      "text/plain": [
       "(23, 10)"
      ]
     },
     "execution_count": 17,
     "metadata": {},
     "output_type": "execute_result"
    }
   ],
   "source": [
    "df.shape"
   ]
  },
  {
   "cell_type": "code",
   "execution_count": 18,
   "metadata": {},
   "outputs": [
    {
     "data": {
      "text/plain": [
       "['--',\n",
       " '--',\n",
       " '--',\n",
       " '--',\n",
       " 'Huron Natural Area',\n",
       " 'Homer Watson Park',\n",
       " 'Steckle Woods',\n",
       " \"McPhail's Cycle & Sports Ltd.\",\n",
       " 'Charles & Benton Street Parking Garage',\n",
       " 'Cambridge to Paris Rail Trail - Cambrige Trailhead',\n",
       " 'City Hall Parking Garage',\n",
       " 'Queen St. N',\n",
       " 'Water St S',\n",
       " 'Forsyth',\n",
       " 'Charles St. West',\n",
       " 'Otto Street',\n",
       " 'Scott Street',\n",
       " 'Queen St. S',\n",
       " 'Ontario St. S',\n",
       " 'Green Street',\n",
       " 'Rotary',\n",
       " 'Transit',\n",
       " 'Bramm St. Yards']"
      ]
     },
     "execution_count": 18,
     "metadata": {},
     "output_type": "execute_result"
    }
   ],
   "source": [
    "df.to_csv()"
   ]
  }
 ],
 "metadata": {
  "kernelspec": {
   "display_name": "Python 3",
   "language": "python",
   "name": "python3"
  },
  "language_info": {
   "codemirror_mode": {
    "name": "ipython",
    "version": 3
   },
   "file_extension": ".py",
   "mimetype": "text/x-python",
   "name": "python",
   "nbconvert_exporter": "python",
   "pygments_lexer": "ipython3",
   "version": "3.5.2"
  }
 },
 "nbformat": 4,
 "nbformat_minor": 2
}
